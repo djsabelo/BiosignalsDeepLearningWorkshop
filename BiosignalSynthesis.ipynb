{
  "nbformat": 4,
  "nbformat_minor": 0,
  "metadata": {
    "colab": {
      "name": "BiosignalSynthesis.ipynb",
      "provenance": [],
      "collapsed_sections": [],
      "authorship_tag": "ABX9TyO46xeVwZdM9EF4k35uaEz5",
      "include_colab_link": true
    },
    "kernelspec": {
      "name": "python3",
      "display_name": "Python 3"
    }
  },
  "cells": [
    {
      "cell_type": "markdown",
      "metadata": {
        "id": "view-in-github",
        "colab_type": "text"
      },
      "source": [
        "<a href=\"https://colab.research.google.com/github/djsabelo/BiosignalsDeepLearningWorkshop/blob/dev/BiosignalSynthesis.ipynb\" target=\"_parent\"><img src=\"https://colab.research.google.com/assets/colab-badge.svg\" alt=\"Open In Colab\"/></a>"
      ]
    },
    {
      "cell_type": "markdown",
      "metadata": {
        "id": "QtVvKe14ciUO"
      },
      "source": [
        "1. Fazer o x e o y\n",
        "2. Cross validation data\n",
        "3. Optimizer\n",
        "4. Setup do tensorboard - fazer callback para gravar numa variavel do loss\n",
        "5. Make model\n",
        "6. Train model\n",
        "7. See loss function;\n",
        "8. Try different parameters, namely learning rate\n",
        "9. Plot Results\n",
        "11. Plot softmax with signal\n",
        "10. Plot R^2 and print metrics\n",
        "11. Synthesize model\n",
        "12. Plot synthesized signal\n",
        "13. Plot previously synthesized \n"
      ]
    },
    {
      "cell_type": "markdown",
      "metadata": {
        "id": "t-Tn-wmq7HY1"
      },
      "source": [
        ""
      ]
    },
    {
      "cell_type": "code",
      "metadata": {
        "colab": {
          "base_uri": "https://localhost:8080/"
        },
        "id": "GRbHfbkZ_EY_",
        "outputId": "a52d7e1c-29e7-4db3-d5ef-336e808ad54f"
      },
      "source": [
        "!git clone https://github.com/djsabelo/BiosignalsDeepLearningWorkshop.git"
      ],
      "execution_count": 1,
      "outputs": [
        {
          "output_type": "stream",
          "text": [
            "fatal: destination path 'BiosignalsDeepLearningWorkshop' already exists and is not an empty directory.\n"
          ],
          "name": "stdout"
        }
      ]
    },
    {
      "cell_type": "code",
      "metadata": {
        "colab": {
          "base_uri": "https://localhost:8080/"
        },
        "id": "RUJw00pb_ENO",
        "outputId": "66dfa131-9155-4f69-f473-45701cf03079"
      },
      "source": [
        "import numpy as np\n",
        "import matplotlib.pyplot as plt\n",
        "\n",
        "\n",
        "# Find files in folder\n",
        "folder = './BiosignalsDeepLearningWorkshop/data/'\n",
        "filename = \"segments.npz\"\n",
        "\n",
        "# Define sampling frequency\n",
        "fs = 250\n",
        "\n",
        "data = np.load(folder + filename)\n",
        "\n",
        "for key in data.keys():\n",
        "  print(key)\n"
      ],
      "execution_count": 2,
      "outputs": [
        {
          "output_type": "stream",
          "text": [
            "segments\n",
            "window_size\n",
            "overlap\n",
            "quantization\n",
            "decimate\n",
            "smoothing\n"
          ],
          "name": "stdout"
        }
      ]
    },
    {
      "cell_type": "code",
      "metadata": {
        "colab": {
          "base_uri": "https://localhost:8080/"
        },
        "id": "3yuED96-_D5r",
        "outputId": "b02320a9-c6ff-4d1c-8ee1-652fdf1f66c6"
      },
      "source": [
        "# Parameters\n",
        "window_size = data[\"window_size\"]\n",
        "quantization = data[\"quantization\"]\n",
        "overlap = data[\"overlap\"]\n",
        "\n",
        "segments = data[\"segments\"]\n",
        "print(np.shape(segments))\n",
        "\n",
        "#Expected Output:\n",
        "#(5, 8997, 65)\n"
      ],
      "execution_count": 3,
      "outputs": [
        {
          "output_type": "stream",
          "text": [
            "(5, 8997, 65)\n"
          ],
          "name": "stdout"
        }
      ]
    },
    {
      "cell_type": "code",
      "metadata": {
        "colab": {
          "base_uri": "https://localhost:8080/"
        },
        "id": "LyRoN251TKRC",
        "outputId": "9e50ef6c-03df-4bc5-f40f-159cbcd5d946"
      },
      "source": [
        "x = segments[0,:512,:-1]\n",
        "y = segments[0,:512,1:]\n",
        "\n",
        "\n",
        "print(np.shape(x))\n",
        "print(np.shape(y))\n",
        "\n",
        "# Expected Output:\n",
        "# (8997, 64)\n",
        "# (8997, 64)"
      ],
      "execution_count": 4,
      "outputs": [
        {
          "output_type": "stream",
          "text": [
            "(512, 64)\n",
            "(512, 64)\n"
          ],
          "name": "stdout"
        }
      ]
    },
    {
      "cell_type": "code",
      "metadata": {
        "colab": {
          "base_uri": "https://localhost:8080/",
          "height": 282
        },
        "id": "WAbHMXhXJsps",
        "outputId": "3e3bc0c4-acf7-4925-bef5-c23586b6e906"
      },
      "source": [
        "random_index = np.random.randint(len(segments))\n",
        "\n",
        "plt.plot(x[random_index, :64], 'b.', alpha=0.5)\n",
        "plt.plot(x[random_index, :64], 'b', alpha=0.2)\n",
        "plt.plot(y[random_index, :64], 'r.', alpha=0.5)\n",
        "plt.plot(y[random_index, :64], 'r', alpha=0.2)"
      ],
      "execution_count": 5,
      "outputs": [
        {
          "output_type": "execute_result",
          "data": {
            "text/plain": [
              "[<matplotlib.lines.Line2D at 0x7f386789dd10>]"
            ]
          },
          "metadata": {
            "tags": []
          },
          "execution_count": 5
        },
        {
          "output_type": "display_data",
          "data": {
            "image/png": "[encoded data removed]",
            "text/plain": [
              "<Figure size 432x288 with 1 Axes>"
            ]
          },
          "metadata": {
            "tags": [],
            "needs_background": "light"
          }
        }
      ]
    },
    {
      "cell_type": "code",
      "metadata": {
        "colab": {
          "base_uri": "https://localhost:8080/"
        },
        "id": "CYJqeOauJ10o",
        "outputId": "e8946182-7f8e-49c4-cde2-a271b795b5d9"
      },
      "source": [
        "import math\n",
        "\n",
        "# cross validation of first 70% for training data and last 30% of test data\n",
        "last_train_index = int(0.7 * len(x))\n",
        "\n",
        "x_train = x[:last_train_index]\n",
        "y_train = y[:last_train_index]\n",
        "\n",
        "first_test_index = int(last_train_index + math.ceil(window_size/overlap) + 1) # to ensure the test data does not overlap with train data\n",
        "\n",
        "x_test = x[first_test_index:]\n",
        "y_test = y[first_test_index:]\n",
        "\n",
        "print(\"Number of rejected windows: {}\".format(first_test_index - last_train_index))\n",
        "print(\"Number of training windows: {}; Percentage: {} %\".format(len(x_train), (len(x_train)*100/len(x))))\n",
        "print(\"Number of testing windows: {}; Percentage: {} %\".format(len(x_test), (len(x_test)*100/len(x))))\n",
        "\n",
        "\n",
        "# Expected Output:\n",
        "# Number of rejected data: 5\n",
        "# Number of training windows: 6297; Percentage: 69.98999666555518 %\n",
        "# Number of testing windows: 2689; Percentage: 29.887740357897076 %\n"
      ],
      "execution_count": 6,
      "outputs": [
        {
          "output_type": "stream",
          "text": [
            "Number of rejected windows: 5\n",
            "Number of training windows: 358; Percentage: 69.921875 %\n",
            "Number of testing windows: 149; Percentage: 29.1015625 %\n"
          ],
          "name": "stdout"
        }
      ]
    },
    {
      "cell_type": "code",
      "metadata": {
        "colab": {
          "base_uri": "https://localhost:8080/"
        },
        "id": "o7qEoVb1KG6f",
        "outputId": "4812aa67-b53b-43cc-ca66-8b175d7a4d64"
      },
      "source": [
        "import tensorflow as tf\n",
        "from tensorflow import keras\n",
        "from tensorflow.keras import layers\n",
        "\n",
        "encoder_hidden_neurons = 256\n",
        "decoder_hidden_neurons = 256\n",
        "dense_layer_neurons = 512\n",
        "\n",
        "print(\"Input layer:\")\n",
        "\n",
        "encoder_input = layers.Input(shape=(window_size,))\n",
        "encoder_embedded = layers.Embedding(input_dim=quantization, output_dim=encoder_hidden_neurons)(\n",
        "    encoder_input\n",
        ")\n",
        "print(encoder_input)\n",
        "print(\"\")\n",
        "\n",
        "print(\"Embedded layer:\")\n",
        "print(encoder_embedded)\n",
        "print(\"\")\n",
        "# Return states in addition to output\n",
        "e_output, state_h = layers.GRU(encoder_hidden_neurons, \n",
        "                               return_state=True, \n",
        "                               return_sequences=True, \n",
        "                               name=\"encoder\")(encoder_embedded)\n",
        "print(\"GRU layers:\")\n",
        "print(\"First layer:\")\n",
        "print(e_output)\n",
        "print(state_h)\n",
        "print(\"\")\n",
        "\n",
        "print(\"Second layer:\")\n",
        "# Pass the state to a new GRU layer, as initial state\n",
        "e_output, state_h  = layers.GRU(decoder_hidden_neurons, return_state=True, return_sequences=True, name=\"encoder_2\")(\n",
        "    e_output, initial_state=[state_h]\n",
        ")\n",
        "print(e_output)\n",
        "print(state_h)\n",
        "print(\"\")\n",
        "\n",
        "print(\"Third layer:\")\n",
        "# Pass the state to a new GRU layer, as initial state\n",
        "decoder_output = layers.GRU(decoder_hidden_neurons, return_sequences=True, name=\"decoder\")(\n",
        "    e_output, initial_state=[state_h]\n",
        ")\n",
        "print(e_output)\n",
        "print(state_h)\n",
        "print(\"\")\n",
        "\n",
        "print(\"Latent layer:\")\n",
        "latent = layers.Dense(quantization)(decoder_output)\n",
        "print(latent)\n",
        "print(\"\")\n",
        "\n",
        "print(\"Softmax layer:\")\n",
        "probs = layers.Softmax()(latent)\n",
        "print(probs)\n",
        "print(\"\")\n",
        "\n",
        "print(\"Output layer:\")\n",
        "output = tf.math.argmax(\n",
        "    probs, axis=2, output_type=tf.dtypes.int64, name=\"output\"\n",
        ")\n",
        "print(output)\n",
        "\n",
        "# Expected output\n",
        "# Input layer:\n",
        "# KerasTensor(type_spec=TensorSpec(shape=(None, 64), dtype=tf.float32, name='input_15'), name='input_15', description=\"created by layer 'input_15'\")\n",
        "#\n",
        "# Embedded layer:\n",
        "# KerasTensor(type_spec=TensorSpec(shape=(None, 64, 128), dtype=tf.float32, name=None), name='embedding_7/embedding_lookup/Identity_1:0', description=\"created by layer 'embedding_7'\")\n",
        "#\n",
        "# GRU layers:\n",
        "# First layer:\n",
        "# KerasTensor(type_spec=TensorSpec(shape=(None, 64, 128), dtype=tf.float32, name=None), name='encoder/PartitionedCall:1', description=\"created by layer 'encoder'\")\n",
        "# KerasTensor(type_spec=TensorSpec(shape=(None, 128), dtype=tf.float32, name=None), name='encoder/PartitionedCall:2', description=\"created by layer 'encoder'\")\n",
        "#\n",
        "# Second layer:\n",
        "# KerasTensor(type_spec=TensorSpec(shape=(None, 64, 128), dtype=tf.float32, name=None), name='encoder_2/PartitionedCall:1', description=\"created by layer 'encoder_2'\")\n",
        "# KerasTensor(type_spec=TensorSpec(shape=(None, 128), dtype=tf.float32, name=None), name='encoder_2/PartitionedCall:2', description=\"created by layer 'encoder_2'\")\n",
        "#\n",
        "# Third layer:\n",
        "# KerasTensor(type_spec=TensorSpec(shape=(None, 64, 128), dtype=tf.float32, name=None), name='encoder_2/PartitionedCall:1', description=\"created by layer 'encoder_2'\")\n",
        "# KerasTensor(type_spec=TensorSpec(shape=(None, 128), dtype=tf.float32, name=None), name='encoder_2/PartitionedCall:2', description=\"created by layer 'encoder_2'\")\n",
        "#\n",
        "# Latent layer:\n",
        "# KerasTensor(type_spec=TensorSpec(shape=(None, 64, 1000), dtype=tf.float32, name=None), name='dense_5/BiasAdd:0', description=\"created by layer 'dense_5'\")\n",
        "#\n",
        "# Softmax layer:\n",
        "# KerasTensor(type_spec=TensorSpec(shape=(None, 64, 1000), dtype=tf.float32, name=None), name='softmax_5/Softmax:0', description=\"created by layer 'softmax_5'\")\n",
        "#\n",
        "# Output layer:\n",
        "# KerasTensor(type_spec=TensorSpec(shape=(None, 64), dtype=tf.int64, name=None), name='tf.math.argmax_5/ArgMax:0', description=\"created by layer 'tf.math.argmax_5'\")\n"
      ],
      "execution_count": 7,
      "outputs": [
        {
          "output_type": "stream",
          "text": [
            "Input layer:\n",
            "KerasTensor(type_spec=TensorSpec(shape=(None, 64), dtype=tf.float32, name='input_1'), name='input_1', description=\"created by layer 'input_1'\")\n",
            "\n",
            "Embedded layer:\n",
            "KerasTensor(type_spec=TensorSpec(shape=(None, 64, 256), dtype=tf.float32, name=None), name='embedding/embedding_lookup/Identity_1:0', description=\"created by layer 'embedding'\")\n",
            "\n",
            "GRU layers:\n",
            "First layer:\n",
            "KerasTensor(type_spec=TensorSpec(shape=(None, 64, 256), dtype=tf.float32, name=None), name='encoder/PartitionedCall:1', description=\"created by layer 'encoder'\")\n",
            "KerasTensor(type_spec=TensorSpec(shape=(None, 256), dtype=tf.float32, name=None), name='encoder/PartitionedCall:2', description=\"created by layer 'encoder'\")\n",
            "\n",
            "Second layer:\n",
            "KerasTensor(type_spec=TensorSpec(shape=(None, 64, 256), dtype=tf.float32, name=None), name='encoder_2/PartitionedCall:1', description=\"created by layer 'encoder_2'\")\n",
            "KerasTensor(type_spec=TensorSpec(shape=(None, 256), dtype=tf.float32, name=None), name='encoder_2/PartitionedCall:2', description=\"created by layer 'encoder_2'\")\n",
            "\n",
            "Third layer:\n",
            "KerasTensor(type_spec=TensorSpec(shape=(None, 64, 256), dtype=tf.float32, name=None), name='encoder_2/PartitionedCall:1', description=\"created by layer 'encoder_2'\")\n",
            "KerasTensor(type_spec=TensorSpec(shape=(None, 256), dtype=tf.float32, name=None), name='encoder_2/PartitionedCall:2', description=\"created by layer 'encoder_2'\")\n",
            "\n",
            "Latent layer:\n",
            "KerasTensor(type_spec=TensorSpec(shape=(None, 64, 1000), dtype=tf.float32, name=None), name='dense/BiasAdd:0', description=\"created by layer 'dense'\")\n",
            "\n",
            "Softmax layer:\n",
            "KerasTensor(type_spec=TensorSpec(shape=(None, 64, 1000), dtype=tf.float32, name=None), name='softmax/Softmax:0', description=\"created by layer 'softmax'\")\n",
            "\n",
            "Output layer:\n",
            "KerasTensor(type_spec=TensorSpec(shape=(None, 64), dtype=tf.int64, name=None), name='tf.math.argmax/ArgMax:0', description=\"created by layer 'tf.math.argmax'\")\n"
          ],
          "name": "stdout"
        }
      ]
    },
    {
      "cell_type": "code",
      "metadata": {
        "colab": {
          "base_uri": "https://localhost:8080/"
        },
        "id": "qLR6J6ILYial",
        "outputId": "9a23c93c-65e2-467d-c306-0706a28cd93b"
      },
      "source": [
        "model = keras.Model(encoder_input, probs)\n",
        "model.summary()\n",
        "\n",
        "# Expected output\n",
        "# Model: \"model\"\n",
        "# __________________________________________________________________________________________________\n",
        "# Layer (type)                    Output Shape         Param #     Connected to                     \n",
        "# ==================================================================================================\n",
        "# input_11 (InputLayer)           [(None, 64)]         0                                            \n",
        "# __________________________________________________________________________________________________\n",
        "# embedding_2 (Embedding)         (None, 64, 128)      128000      input_11[0][0]                   \n",
        "# __________________________________________________________________________________________________\n",
        "# encoder (GRU)                   [(None, 64, 128), (N 99072       embedding_2[0][0]                \n",
        "# __________________________________________________________________________________________________\n",
        "# encoder_2 (GRU)                 [(None, 64, 128), (N 99072       encoder[0][0]                    \n",
        "#                                                                  encoder[0][1]                    \n",
        "# __________________________________________________________________________________________________\n",
        "# decoder (GRU)                   (None, 64, 128)      99072       encoder_2[0][0]                  \n",
        "#                                                                  encoder_2[0][1]                  \n",
        "# __________________________________________________________________________________________________\n",
        "# dense (Dense)                   (None, 64, 1000)     129000      decoder[0][0]                    \n",
        "# __________________________________________________________________________________________________\n",
        "# softmax (Softmax)               (None, 64, 1000)     0           dense[0][0]                      \n",
        "# ==================================================================================================\n",
        "# Total params: 554,216\n",
        "# Trainable params: 554,216\n",
        "# Non-trainable params: 0"
      ],
      "execution_count": 8,
      "outputs": [
        {
          "output_type": "stream",
          "text": [
            "Model: \"model\"\n",
            "__________________________________________________________________________________________________\n",
            "Layer (type)                    Output Shape         Param #     Connected to                     \n",
            "==================================================================================================\n",
            "input_1 (InputLayer)            [(None, 64)]         0                                            \n",
            "__________________________________________________________________________________________________\n",
            "embedding (Embedding)           (None, 64, 256)      256000      input_1[0][0]                    \n",
            "__________________________________________________________________________________________________\n",
            "encoder (GRU)                   [(None, 64, 256), (N 394752      embedding[0][0]                  \n",
            "__________________________________________________________________________________________________\n",
            "encoder_2 (GRU)                 [(None, 64, 256), (N 394752      encoder[0][0]                    \n",
            "                                                                 encoder[0][1]                    \n",
            "__________________________________________________________________________________________________\n",
            "decoder (GRU)                   (None, 64, 256)      394752      encoder_2[0][0]                  \n",
            "                                                                 encoder_2[0][1]                  \n",
            "__________________________________________________________________________________________________\n",
            "dense (Dense)                   (None, 64, 1000)     257000      decoder[0][0]                    \n",
            "__________________________________________________________________________________________________\n",
            "softmax (Softmax)               (None, 64, 1000)     0           dense[0][0]                      \n",
            "==================================================================================================\n",
            "Total params: 1,697,256\n",
            "Trainable params: 1,697,256\n",
            "Non-trainable params: 0\n",
            "__________________________________________________________________________________________________\n"
          ],
          "name": "stdout"
        }
      ]
    },
    {
      "cell_type": "code",
      "metadata": {
        "id": "2Z55al48d0ZZ"
      },
      "source": [
        "class show_intermediate_outputs(tf.keras.callbacks.Callback):\n",
        "    \"\"\"\n",
        "    Callback class for Keras to run prediction on a model\n",
        "    It will save the results of the model to a file after plotting\n",
        "    \"\"\"\n",
        "\n",
        "    def __init__(self, model, x_example):\n",
        "        \"\"\"\n",
        "        `input_names` should be a list of graph names\n",
        "        \"\"\"\n",
        "      \n",
        "        self.model = model\n",
        "        self.x_example = x_example\n",
        "        self.predicts = [np.argmax(self.model.predict(self.x_example), axis=2)]\n",
        "    \n",
        "    def on_batch_end(self, batch, logs=None):              \n",
        "        self.predicts.append(np.argmax(self.model.predict(self.x_example), axis=2))\n",
        "\n",
        "    #def on_epoch_end(self, batch, logs=None):              \n",
        "    #    self.predicts.append(np.argmax(self.model.predict(self.x_example), axis=2))\n",
        "\n",
        "class save_losses(tf.keras.callbacks.Callback): \n",
        "    \"\"\"\n",
        "    Save the losses, mse, and accuracy of a model to a file in the intermediates folder\n",
        "    \"\"\"\n",
        "    def __init__(self, model_name):\n",
        "        # Make sure the test model save path exists\n",
        "        if not os.path.exists(\"intermediates/\"):\n",
        "            os.mkdir(\"intermediates/\")\n",
        "        self.model_name = model_name\n",
        "\n",
        "        self.metric_file = open(\"intermediates/metrics.txt\", 'a')\n",
        "\n",
        "    def on_train_begin(self, logs={}):\n",
        "        self.losses = []\n",
        "        self.mses = []\n",
        "        self.acc = []\n",
        "\n",
        "    # Save to a file when the training ends\n",
        "    def on_train_end(self, logs={}):\n",
        "\n",
        "        self.metric_file.write(\"\\n\\n\" + self.model_name + \"\\n\")\n",
        "        average_loss = np.average(self.losses)\n",
        "        self.metric_file.write(\"{}\".format(self.losses))\n",
        "\n",
        "    def on_epoch_end(self, batch, logs={}):\n",
        "        self.losses.append(logs.get('loss'))\n",
        "        if logs.get('mse'):\n",
        "            self.mses.append(logs.get('mse'))\n",
        " "
      ],
      "execution_count": 9,
      "outputs": []
    },
    {
      "cell_type": "code",
      "metadata": {
        "id": "mInweuZVYiQe"
      },
      "source": [
        "model.compile(tf.keras.optimizers.RMSprop(learning_rate=0.001), \n",
        "              \"mse\", \n",
        "              metrics=[tf.metrics.Precision(), tf.metrics.Recall()])"
      ],
      "execution_count": 10,
      "outputs": []
    },
    {
      "cell_type": "code",
      "metadata": {
        "colab": {
          "base_uri": "https://localhost:8080/"
        },
        "id": "z6Yal8j-YiET",
        "outputId": "33346c0c-f7b7-4614-94ae-313e16453130"
      },
      "source": [
        "import os \n",
        "\n",
        "checkpoint_path = \"/training/cp.ckpt\"\n",
        "checkpoint_dir = os.path.dirname(checkpoint_path)\n",
        "\n",
        "# Create a callback that saves the model's weights\n",
        "save_callback = tf.keras.callbacks.ModelCheckpoint(filepath=checkpoint_path,\n",
        "                                                 save_weights_only=True,\n",
        "                                                 verbose=1,   \n",
        "                                                 save_freq= 1000*10)\n",
        "predict_callback = show_intermediate_outputs(model, x_train[random_index])\n",
        "loss_history_callback = save_losses(\"ECG_synthesis\")\n"
      ],
      "execution_count": 11,
      "outputs": [
        {
          "output_type": "stream",
          "text": [
            "WARNING:tensorflow:Model was constructed with shape (None, 64) for input KerasTensor(type_spec=TensorSpec(shape=(None, 64), dtype=tf.float32, name='input_1'), name='input_1', description=\"created by layer 'input_1'\"), but it was called on an input with incompatible shape (32, 1).\n"
          ],
          "name": "stdout"
        }
      ]
    },
    {
      "cell_type": "code",
      "metadata": {
        "colab": {
          "base_uri": "https://localhost:8080/"
        },
        "id": "EKOusIhWghDi",
        "outputId": "f6d12ca9-fc17-4e99-8138-b032374a338f"
      },
      "source": [
        "epochs = 1000\n",
        "batch_size = 32\n",
        "\n",
        "\n",
        "model.fit(x_train, \n",
        "          np.identity(quantization)[y_train], \n",
        "          callbacks=[loss_history_callback, save_callback, predict_callback], \n",
        "          epochs=epochs, \n",
        "          batch_size=batch_size, \n",
        "          shuffle=True)\n",
        "\n",
        "model.save_weights(\"hr_detect_checkpoint2\")\n",
        "model.evaluate(x_test, np.identity(quantization)[y_test], verbose=1)\n",
        "\n"
      ],
      "execution_count": 43,
      "outputs": [
        {
          "output_type": "stream",
          "text": [
            "Epoch 1/200\n",
            "45/45 [==============================] - 25s 546ms/step - loss: 3.0233e-05 - precision: 0.9986 - recall: 0.9709\n",
            "Epoch 2/200\n",
            "45/45 [==============================] - 24s 544ms/step - loss: 3.0225e-05 - precision: 0.9986 - recall: 0.9709\n",
            "Epoch 3/200\n",
            "45/45 [==============================] - 25s 548ms/step - loss: 3.0212e-05 - precision: 0.9986 - recall: 0.9709\n",
            "Epoch 4/200\n",
            "45/45 [==============================] - 24s 542ms/step - loss: 3.0204e-05 - precision: 0.9986 - recall: 0.9709\n",
            "Epoch 5/200\n",
            "45/45 [==============================] - 24s 545ms/step - loss: 3.0190e-05 - precision: 0.9986 - recall: 0.9709\n",
            "Epoch 6/200\n",
            "45/45 [==============================] - 25s 546ms/step - loss: 3.0172e-05 - precision: 0.9986 - recall: 0.9709\n",
            "Epoch 7/200\n",
            "45/45 [==============================] - 25s 549ms/step - loss: 3.0050e-05 - precision: 0.9986 - recall: 0.9711\n",
            "Epoch 8/200\n",
            "45/45 [==============================] - 25s 552ms/step - loss: 3.0035e-05 - precision: 0.9986 - recall: 0.9711\n",
            "Epoch 9/200\n",
            "45/45 [==============================] - 25s 554ms/step - loss: 3.0032e-05 - precision: 0.9986 - recall: 0.9711\n",
            "Epoch 10/200\n",
            "45/45 [==============================] - 25s 554ms/step - loss: 3.0026e-05 - precision: 0.9986 - recall: 0.9711\n",
            "Epoch 11/200\n",
            "45/45 [==============================] - 25s 559ms/step - loss: 3.0018e-05 - precision: 0.9986 - recall: 0.9711\n",
            "Epoch 12/200\n",
            "45/45 [==============================] - 25s 554ms/step - loss: 2.9999e-05 - precision: 0.9986 - recall: 0.9711\n",
            "Epoch 13/200\n",
            "45/45 [==============================] - 24s 539ms/step - loss: 2.9887e-05 - precision: 0.9986 - recall: 0.9712\n",
            "Epoch 14/200\n",
            "45/45 [==============================] - 24s 541ms/step - loss: 2.9851e-05 - precision: 0.9987 - recall: 0.9712\n",
            "Epoch 15/200\n",
            "45/45 [==============================] - 24s 543ms/step - loss: 2.9812e-05 - precision: 0.9986 - recall: 0.9713\n",
            "Epoch 16/200\n",
            "45/45 [==============================] - 25s 551ms/step - loss: 2.9741e-05 - precision: 0.9986 - recall: 0.9713\n",
            "Epoch 17/200\n",
            "45/45 [==============================] - 25s 556ms/step - loss: 2.9653e-05 - precision: 0.9986 - recall: 0.9714\n",
            "Epoch 18/200\n",
            "45/45 [==============================] - 25s 554ms/step - loss: 2.9639e-05 - precision: 0.9986 - recall: 0.9715\n",
            "Epoch 19/200\n",
            "45/45 [==============================] - 25s 550ms/step - loss: 2.9628e-05 - precision: 0.9986 - recall: 0.9715\n",
            "Epoch 20/200\n",
            "45/45 [==============================] - 25s 549ms/step - loss: 2.9625e-05 - precision: 0.9986 - recall: 0.9715\n",
            "Epoch 21/200\n",
            "45/45 [==============================] - 25s 554ms/step - loss: 2.9519e-05 - precision: 0.9986 - recall: 0.9715\n",
            "Epoch 22/200\n",
            "45/45 [==============================] - 25s 546ms/step - loss: 2.9494e-05 - precision: 0.9987 - recall: 0.9716\n",
            "Epoch 23/200\n",
            "45/45 [==============================] - 24s 544ms/step - loss: 2.9488e-05 - precision: 0.9986 - recall: 0.9716\n",
            "Epoch 24/200\n",
            "45/45 [==============================] - 24s 541ms/step - loss: 2.9483e-05 - precision: 0.9986 - recall: 0.9716\n",
            "Epoch 25/200\n",
            "45/45 [==============================] - 25s 547ms/step - loss: 2.9486e-05 - precision: 0.9986 - recall: 0.9716\n",
            "Epoch 26/200\n",
            "45/45 [==============================] - 25s 550ms/step - loss: 2.9489e-05 - precision: 0.9986 - recall: 0.9716\n",
            "Epoch 27/200\n",
            "45/45 [==============================] - 24s 544ms/step - loss: 2.9479e-05 - precision: 0.9986 - recall: 0.9716\n",
            "Epoch 28/200\n",
            "45/45 [==============================] - 24s 545ms/step - loss: 2.9476e-05 - precision: 0.9986 - recall: 0.9716\n",
            "Epoch 29/200\n",
            "45/45 [==============================] - 24s 542ms/step - loss: 2.9475e-05 - precision: 0.9986 - recall: 0.9716\n",
            "Epoch 30/200\n",
            "45/45 [==============================] - 24s 542ms/step - loss: 2.9411e-05 - precision: 0.9986 - recall: 0.9716\n",
            "Epoch 31/200\n",
            "45/45 [==============================] - 24s 540ms/step - loss: 2.9346e-05 - precision: 0.9986 - recall: 0.9717\n",
            "Epoch 32/200\n",
            "45/45 [==============================] - 24s 542ms/step - loss: 2.9344e-05 - precision: 0.9986 - recall: 0.9717\n",
            "Epoch 33/200\n",
            "45/45 [==============================] - 24s 539ms/step - loss: 2.9331e-05 - precision: 0.9986 - recall: 0.9717\n",
            "Epoch 34/200\n",
            "45/45 [==============================] - 24s 540ms/step - loss: 2.9288e-05 - precision: 0.9987 - recall: 0.9717\n",
            "Epoch 35/200\n",
            "45/45 [==============================] - 25s 553ms/step - loss: 2.9181e-05 - precision: 0.9987 - recall: 0.9718\n",
            "Epoch 36/200\n",
            "45/45 [==============================] - 25s 548ms/step - loss: 2.9065e-05 - precision: 0.9987 - recall: 0.9720\n",
            "Epoch 37/200\n",
            "45/45 [==============================] - 24s 545ms/step - loss: 2.9038e-05 - precision: 0.9987 - recall: 0.9720\n",
            "Epoch 38/200\n",
            "45/45 [==============================] - 25s 546ms/step - loss: 2.8933e-05 - precision: 0.9987 - recall: 0.9721\n",
            "Epoch 39/200\n",
            "45/45 [==============================] - 25s 547ms/step - loss: 2.8883e-05 - precision: 0.9987 - recall: 0.9722\n",
            "Epoch 40/200\n",
            "45/45 [==============================] - 25s 550ms/step - loss: 2.8718e-05 - precision: 0.9987 - recall: 0.9723\n",
            "Epoch 41/200\n",
            "45/45 [==============================] - 25s 551ms/step - loss: 2.8642e-05 - precision: 0.9987 - recall: 0.9724\n",
            "Epoch 42/200\n",
            "45/45 [==============================] - 25s 552ms/step - loss: 2.8626e-05 - precision: 0.9987 - recall: 0.9724\n",
            "Epoch 43/200\n",
            "45/45 [==============================] - 25s 561ms/step - loss: 2.8554e-05 - precision: 0.9987 - recall: 0.9725\n",
            "Epoch 44/200\n",
            "45/45 [==============================] - 25s 564ms/step - loss: 2.8491e-05 - precision: 0.9987 - recall: 0.9725\n",
            "Epoch 45/200\n",
            "45/45 [==============================] - 25s 558ms/step - loss: 2.8483e-05 - precision: 0.9987 - recall: 0.9725\n",
            "Epoch 46/200\n",
            "45/45 [==============================] - 25s 556ms/step - loss: 2.8463e-05 - precision: 0.9987 - recall: 0.9725\n",
            "Epoch 47/200\n",
            "45/45 [==============================] - 25s 554ms/step - loss: 2.8380e-05 - precision: 0.9987 - recall: 0.9726\n",
            "Epoch 48/200\n",
            "45/45 [==============================] - 25s 552ms/step - loss: 2.8299e-05 - precision: 0.9987 - recall: 0.9727\n",
            "Epoch 49/200\n",
            "45/45 [==============================] - 25s 561ms/step - loss: 2.7916e-05 - precision: 0.9986 - recall: 0.9732\n",
            "Epoch 50/200\n",
            "45/45 [==============================] - 25s 565ms/step - loss: 2.8301e-05 - precision: 0.9981 - recall: 0.9732\n",
            "Epoch 51/200\n",
            "45/45 [==============================] - 25s 558ms/step - loss: 3.2521e-05 - precision: 0.9955 - recall: 0.9708\n",
            "Epoch 52/200\n",
            "45/45 [==============================] - 25s 562ms/step - loss: 3.0031e-05 - precision: 0.9971 - recall: 0.9724\n",
            "Epoch 53/200\n",
            "45/45 [==============================] - 25s 557ms/step - loss: 3.0823e-05 - precision: 0.9966 - recall: 0.9720\n",
            "Epoch 54/200\n",
            "45/45 [==============================] - 25s 554ms/step - loss: 3.0564e-05 - precision: 0.9967 - recall: 0.9722\n",
            "Epoch 55/200\n",
            "45/45 [==============================] - 25s 553ms/step - loss: 2.9551e-05 - precision: 0.9970 - recall: 0.9728\n",
            "Epoch 56/200\n",
            "45/45 [==============================] - 25s 556ms/step - loss: 3.0714e-05 - precision: 0.9969 - recall: 0.9726\n",
            "Epoch 57/200\n",
            "45/45 [==============================] - 25s 567ms/step - loss: 2.9058e-05 - precision: 0.9975 - recall: 0.9732\n",
            "Epoch 58/200\n",
            "45/45 [==============================] - 25s 563ms/step - loss: 2.7994e-05 - precision: 0.9979 - recall: 0.9740\n",
            "Epoch 59/200\n",
            "45/45 [==============================] - 25s 566ms/step - loss: 2.7172e-05 - precision: 0.9983 - recall: 0.9744\n",
            "Epoch 60/200\n",
            "45/45 [==============================] - 25s 558ms/step - loss: 2.8852e-05 - precision: 0.9969 - recall: 0.9735\n",
            "Epoch 61/200\n",
            "45/45 [==============================] - 25s 559ms/step - loss: 2.7732e-05 - precision: 0.9979 - recall: 0.9742\n",
            "Epoch 62/200\n",
            "45/45 [==============================] - 25s 562ms/step - loss: 3.1668e-05 - precision: 0.9954 - recall: 0.9718\n",
            "Epoch 63/200\n",
            "45/45 [==============================] - 25s 556ms/step - loss: 2.8295e-05 - precision: 0.9972 - recall: 0.9740\n",
            "Epoch 64/200\n",
            "45/45 [==============================] - 25s 554ms/step - loss: 2.7231e-05 - precision: 0.9978 - recall: 0.9746\n",
            "Epoch 65/200\n",
            "45/45 [==============================] - 25s 555ms/step - loss: 2.8028e-05 - precision: 0.9972 - recall: 0.9740\n",
            "Epoch 66/200\n",
            "45/45 [==============================] - 25s 561ms/step - loss: 2.8663e-05 - precision: 0.9970 - recall: 0.9739\n",
            "Epoch 67/200\n",
            "45/45 [==============================] - 25s 554ms/step - loss: 2.7490e-05 - precision: 0.9976 - recall: 0.9747\n",
            "Epoch 68/200\n",
            "45/45 [==============================] - 25s 563ms/step - loss: 2.8217e-05 - precision: 0.9970 - recall: 0.9744\n",
            "Epoch 69/200\n",
            "45/45 [==============================] - 25s 565ms/step - loss: 3.0633e-05 - precision: 0.9956 - recall: 0.9728\n",
            "Epoch 70/200\n",
            "45/45 [==============================] - 25s 562ms/step - loss: 2.6723e-05 - precision: 0.9978 - recall: 0.9755\n",
            "Epoch 71/200\n",
            "45/45 [==============================] - 26s 568ms/step - loss: 2.5125e-05 - precision: 0.9985 - recall: 0.9766\n",
            "Epoch 72/200\n",
            "45/45 [==============================] - 25s 561ms/step - loss: 2.5947e-05 - precision: 0.9977 - recall: 0.9759\n",
            "Epoch 73/200\n",
            "45/45 [==============================] - 25s 557ms/step - loss: 2.5496e-05 - precision: 0.9983 - recall: 0.9763\n",
            "Epoch 74/200\n",
            "45/45 [==============================] - 25s 560ms/step - loss: 2.4935e-05 - precision: 0.9984 - recall: 0.9766\n",
            "Epoch 75/200\n",
            "45/45 [==============================] - 25s 557ms/step - loss: 2.5184e-05 - precision: 0.9980 - recall: 0.9764\n",
            "Epoch 76/200\n",
            "45/45 [==============================] - 25s 560ms/step - loss: 2.4590e-05 - precision: 0.9984 - recall: 0.9768\n",
            "Epoch 77/200\n",
            "45/45 [==============================] - 25s 557ms/step - loss: 2.4508e-05 - precision: 0.9984 - recall: 0.9768\n",
            "Epoch 78/200\n",
            "45/45 [==============================] - 25s 554ms/step - loss: 2.4440e-05 - precision: 0.9983 - recall: 0.9769\n",
            "Epoch 79/200\n",
            "45/45 [==============================] - 25s 567ms/step - loss: 2.4160e-05 - precision: 0.9986 - recall: 0.9770\n",
            "Epoch 80/200\n",
            "45/45 [==============================] - 25s 559ms/step - loss: 2.4056e-05 - precision: 0.9986 - recall: 0.9770\n",
            "Epoch 81/200\n",
            "45/45 [==============================] - 25s 557ms/step - loss: 2.4038e-05 - precision: 0.9986 - recall: 0.9770\n",
            "Epoch 82/200\n",
            "45/45 [==============================] - 25s 554ms/step - loss: 2.4032e-05 - precision: 0.9987 - recall: 0.9770\n",
            "Epoch 83/200\n",
            "45/45 [==============================] - 25s 553ms/step - loss: 2.4026e-05 - precision: 0.9987 - recall: 0.9770\n",
            "Epoch 84/200\n",
            "45/45 [==============================] - 25s 554ms/step - loss: 2.4018e-05 - precision: 0.9987 - recall: 0.9770\n",
            "Epoch 85/200\n",
            "45/45 [==============================] - 25s 559ms/step - loss: 2.4002e-05 - precision: 0.9987 - recall: 0.9770\n",
            "Epoch 86/200\n",
            "45/45 [==============================] - 25s 559ms/step - loss: 2.4003e-05 - precision: 0.9987 - recall: 0.9770\n",
            "Epoch 87/200\n",
            "45/45 [==============================] - 25s 555ms/step - loss: 2.3996e-05 - precision: 0.9987 - recall: 0.9770\n",
            "Epoch 88/200\n",
            "45/45 [==============================] - 25s 560ms/step - loss: 2.3997e-05 - precision: 0.9987 - recall: 0.9770\n",
            "Epoch 89/200\n",
            "45/45 [==============================] - 25s 556ms/step - loss: 2.3990e-05 - precision: 0.9987 - recall: 0.9770\n",
            "Epoch 90/200\n",
            "45/45 [==============================] - 25s 558ms/step - loss: 2.3935e-05 - precision: 0.9987 - recall: 0.9771\n",
            "Epoch 91/200\n",
            "45/45 [==============================] - 25s 560ms/step - loss: 2.3852e-05 - precision: 0.9987 - recall: 0.9772\n",
            "Epoch 92/200\n",
            "45/45 [==============================] - 25s 561ms/step - loss: 2.3850e-05 - precision: 0.9987 - recall: 0.9772\n",
            "Epoch 93/200\n",
            "45/45 [==============================] - 25s 558ms/step - loss: 2.3842e-05 - precision: 0.9987 - recall: 0.9772\n",
            "Epoch 94/200\n",
            "45/45 [==============================] - 25s 563ms/step - loss: 2.3846e-05 - precision: 0.9987 - recall: 0.9772\n",
            "Epoch 95/200\n",
            "45/45 [==============================] - 25s 565ms/step - loss: 2.3834e-05 - precision: 0.9987 - recall: 0.9772\n",
            "Epoch 96/200\n",
            "45/45 [==============================] - 25s 558ms/step - loss: 2.3810e-05 - precision: 0.9987 - recall: 0.9772\n",
            "Epoch 97/200\n",
            "45/45 [==============================] - 25s 556ms/step - loss: 2.3635e-05 - precision: 0.9987 - recall: 0.9773\n",
            "Epoch 98/200\n",
            "45/45 [==============================] - 25s 551ms/step - loss: 2.3578e-05 - precision: 0.9987 - recall: 0.9774\n",
            "Epoch 99/200\n",
            "45/45 [==============================] - 25s 557ms/step - loss: 2.3568e-05 - precision: 0.9987 - recall: 0.9774\n",
            "Epoch 100/200\n",
            "45/45 [==============================] - 25s 557ms/step - loss: 2.3449e-05 - precision: 0.9987 - recall: 0.9775\n",
            "Epoch 101/200\n",
            "45/45 [==============================] - 25s 554ms/step - loss: 2.3398e-05 - precision: 0.9988 - recall: 0.9776\n",
            "Epoch 102/200\n",
            "45/45 [==============================] - 26s 569ms/step - loss: 2.3382e-05 - precision: 0.9988 - recall: 0.9776\n",
            "Epoch 103/200\n",
            "45/45 [==============================] - 25s 563ms/step - loss: 2.3835e-05 - precision: 0.9986 - recall: 0.9774\n",
            "Epoch 104/200\n",
            "45/45 [==============================] - 25s 562ms/step - loss: 2.3391e-05 - precision: 0.9988 - recall: 0.9776\n",
            "Epoch 105/200\n",
            "45/45 [==============================] - 25s 551ms/step - loss: 2.3382e-05 - precision: 0.9988 - recall: 0.9776\n",
            "Epoch 106/200\n",
            "45/45 [==============================] - 25s 551ms/step - loss: 2.3376e-05 - precision: 0.9988 - recall: 0.9776\n",
            "Epoch 107/200\n",
            "45/45 [==============================] - 25s 552ms/step - loss: 2.3374e-05 - precision: 0.9988 - recall: 0.9776\n",
            "Epoch 108/200\n",
            "45/45 [==============================] - 25s 553ms/step - loss: 2.3365e-05 - precision: 0.9988 - recall: 0.9776\n",
            "Epoch 109/200\n",
            "45/45 [==============================] - 25s 555ms/step - loss: 2.3354e-05 - precision: 0.9988 - recall: 0.9776\n",
            "Epoch 110/200\n",
            "45/45 [==============================] - 25s 556ms/step - loss: 2.3237e-05 - precision: 0.9988 - recall: 0.9777\n",
            "Epoch 111/200\n",
            "45/45 [==============================] - 25s 561ms/step - loss: 2.3105e-05 - precision: 0.9988 - recall: 0.9779\n",
            "Epoch 112/200\n",
            "45/45 [==============================] - 25s 563ms/step - loss: 2.3056e-05 - precision: 0.9988 - recall: 0.9779\n",
            "Epoch 113/200\n",
            "45/45 [==============================] - 25s 555ms/step - loss: 2.2958e-05 - precision: 0.9988 - recall: 0.9780\n",
            "Epoch 114/200\n",
            "45/45 [==============================] - 25s 549ms/step - loss: 2.3018e-05 - precision: 0.9987 - recall: 0.9781\n",
            "Epoch 115/200\n",
            "45/45 [==============================] - 25s 558ms/step - loss: 2.2816e-05 - precision: 0.9988 - recall: 0.9782\n",
            "Epoch 116/200\n",
            "45/45 [==============================] - 25s 560ms/step - loss: 2.2852e-05 - precision: 0.9987 - recall: 0.9782\n",
            "Epoch 117/200\n",
            "45/45 [==============================] - 26s 568ms/step - loss: 2.2852e-05 - precision: 0.9987 - recall: 0.9782\n",
            "Epoch 118/200\n",
            "45/45 [==============================] - 25s 566ms/step - loss: 2.2796e-05 - precision: 0.9987 - recall: 0.9783\n",
            "Epoch 119/200\n",
            "45/45 [==============================] - 25s 565ms/step - loss: 2.2710e-05 - precision: 0.9988 - recall: 0.9783\n",
            "Epoch 120/200\n",
            "45/45 [==============================] - 25s 559ms/step - loss: 2.2707e-05 - precision: 0.9988 - recall: 0.9783\n",
            "Epoch 121/200\n",
            "45/45 [==============================] - 25s 561ms/step - loss: 2.2702e-05 - precision: 0.9988 - recall: 0.9783\n",
            "Epoch 122/200\n",
            "45/45 [==============================] - 25s 559ms/step - loss: 2.2676e-05 - precision: 0.9988 - recall: 0.9783\n",
            "Epoch 123/200\n",
            "45/45 [==============================] - 25s 563ms/step - loss: 2.2571e-05 - precision: 0.9988 - recall: 0.9784\n",
            "Epoch 124/200\n",
            "45/45 [==============================] - 26s 576ms/step - loss: 2.2480e-05 - precision: 0.9988 - recall: 0.9785\n",
            "Epoch 125/200\n",
            "45/45 [==============================] - 25s 561ms/step - loss: 2.2437e-05 - precision: 0.9988 - recall: 0.9786\n",
            "Epoch 126/200\n",
            "45/45 [==============================] - 25s 564ms/step - loss: 2.2430e-05 - precision: 0.9988 - recall: 0.9786\n",
            "Epoch 127/200\n",
            "45/45 [==============================] - 25s 563ms/step - loss: 2.2373e-05 - precision: 0.9988 - recall: 0.9786\n",
            "Epoch 128/200\n",
            "45/45 [==============================] - 25s 563ms/step - loss: 2.2091e-05 - precision: 0.9988 - recall: 0.9789\n",
            "Epoch 129/200\n",
            "45/45 [==============================] - 26s 571ms/step - loss: 2.1825e-05 - precision: 0.9985 - recall: 0.9793\n",
            "Epoch 130/200\n",
            "45/45 [==============================] - 26s 575ms/step - loss: 2.1649e-05 - precision: 0.9984 - recall: 0.9796\n",
            "Epoch 131/200\n",
            "45/45 [==============================] - 26s 576ms/step - loss: 2.1399e-05 - precision: 0.9982 - recall: 0.9799\n",
            "Epoch 132/200\n",
            "45/45 [==============================] - 26s 577ms/step - loss: 2.1111e-05 - precision: 0.9983 - recall: 0.9804\n",
            "Epoch 133/200\n",
            "45/45 [==============================] - 26s 573ms/step - loss: 1.9889e-05 - precision: 0.9988 - recall: 0.9812\n",
            "Epoch 134/200\n",
            "45/45 [==============================] - 25s 567ms/step - loss: 1.9695e-05 - precision: 0.9987 - recall: 0.9814\n",
            "Epoch 135/200\n",
            "45/45 [==============================] - 26s 569ms/step - loss: 1.8839e-05 - precision: 0.9985 - recall: 0.9823\n",
            "Epoch 136/200\n",
            "45/45 [==============================] - 25s 562ms/step - loss: 1.7953e-05 - precision: 0.9984 - recall: 0.9836\n",
            "Epoch 137/200\n",
            "45/45 [==============================] - 26s 567ms/step - loss: 1.6997e-05 - precision: 0.9988 - recall: 0.9841\n",
            "Epoch 138/200\n",
            "45/45 [==============================] - 26s 569ms/step - loss: 1.6731e-05 - precision: 0.9989 - recall: 0.9843\n",
            "Epoch 139/200\n",
            "45/45 [==============================] - 25s 566ms/step - loss: 1.6335e-05 - precision: 0.9989 - recall: 0.9847\n",
            "Epoch 140/200\n",
            "45/45 [==============================] - 25s 567ms/step - loss: 1.6208e-05 - precision: 0.9989 - recall: 0.9848\n",
            "Epoch 141/200\n",
            "45/45 [==============================] - 26s 569ms/step - loss: 1.6104e-05 - precision: 0.9989 - recall: 0.9849\n",
            "Epoch 142/200\n",
            "45/45 [==============================] - 25s 565ms/step - loss: 1.5829e-05 - precision: 0.9989 - recall: 0.9851\n",
            "Epoch 143/200\n",
            "45/45 [==============================] - 25s 556ms/step - loss: 1.5378e-05 - precision: 0.9989 - recall: 0.9856\n",
            "Epoch 144/200\n",
            "45/45 [==============================] - 25s 554ms/step - loss: 1.5143e-05 - precision: 0.9989 - recall: 0.9858\n",
            "Epoch 145/200\n",
            "20/45 [============>.................] - ETA: 13s - loss: 1.6424e-05 - precision: 0.9990 - recall: 0.9846\n",
            "Epoch 00145: saving model to /training/cp.ckpt\n",
            "45/45 [==============================] - 25s 555ms/step - loss: 1.5104e-05 - precision: 0.9989 - recall: 0.9859\n",
            "Epoch 146/200\n",
            "45/45 [==============================] - 25s 563ms/step - loss: 1.5097e-05 - precision: 0.9989 - recall: 0.9859\n",
            "Epoch 147/200\n",
            "45/45 [==============================] - 25s 558ms/step - loss: 1.5104e-05 - precision: 0.9989 - recall: 0.9859\n",
            "Epoch 148/200\n",
            "45/45 [==============================] - 25s 555ms/step - loss: 1.5089e-05 - precision: 0.9989 - recall: 0.9859\n",
            "Epoch 149/200\n",
            "45/45 [==============================] - 25s 553ms/step - loss: 1.5083e-05 - precision: 0.9989 - recall: 0.9859\n",
            "Epoch 150/200\n",
            "45/45 [==============================] - 25s 557ms/step - loss: 1.5073e-05 - precision: 0.9989 - recall: 0.9859\n",
            "Epoch 151/200\n",
            "45/45 [==============================] - 25s 560ms/step - loss: 1.5074e-05 - precision: 0.9989 - recall: 0.9859\n",
            "Epoch 152/200\n",
            "45/45 [==============================] - 25s 552ms/step - loss: 1.5066e-05 - precision: 0.9989 - recall: 0.9859\n",
            "Epoch 153/200\n",
            "45/45 [==============================] - 25s 548ms/step - loss: 1.5019e-05 - precision: 0.9989 - recall: 0.9859\n",
            "Epoch 154/200\n",
            "45/45 [==============================] - 25s 552ms/step - loss: 1.4850e-05 - precision: 0.9989 - recall: 0.9861\n",
            "Epoch 155/200\n",
            "45/45 [==============================] - 25s 558ms/step - loss: 1.4415e-05 - precision: 0.9989 - recall: 0.9866\n",
            "Epoch 156/200\n",
            "45/45 [==============================] - 25s 555ms/step - loss: 1.4261e-05 - precision: 0.9989 - recall: 0.9866\n",
            "Epoch 157/200\n",
            "45/45 [==============================] - 25s 555ms/step - loss: 1.4137e-05 - precision: 0.9989 - recall: 0.9868\n",
            "Epoch 158/200\n",
            "45/45 [==============================] - 25s 555ms/step - loss: 1.4120e-05 - precision: 0.9989 - recall: 0.9868\n",
            "Epoch 159/200\n",
            "45/45 [==============================] - 25s 556ms/step - loss: 1.4101e-05 - precision: 0.9989 - recall: 0.9868\n",
            "Epoch 160/200\n",
            "45/45 [==============================] - 25s 550ms/step - loss: 1.4092e-05 - precision: 0.9989 - recall: 0.9868\n",
            "Epoch 161/200\n",
            "45/45 [==============================] - 25s 546ms/step - loss: 1.4088e-05 - precision: 0.9989 - recall: 0.9868\n",
            "Epoch 162/200\n",
            "45/45 [==============================] - 25s 547ms/step - loss: 1.4090e-05 - precision: 0.9989 - recall: 0.9868\n",
            "Epoch 163/200\n",
            "45/45 [==============================] - 25s 550ms/step - loss: 1.4085e-05 - precision: 0.9989 - recall: 0.9868\n",
            "Epoch 164/200\n",
            "45/45 [==============================] - 25s 552ms/step - loss: 1.4059e-05 - precision: 0.9989 - recall: 0.9868\n",
            "Epoch 165/200\n",
            "45/45 [==============================] - 25s 552ms/step - loss: 1.4030e-05 - precision: 0.9989 - recall: 0.9869\n",
            "Epoch 166/200\n",
            "45/45 [==============================] - 25s 556ms/step - loss: 1.3964e-05 - precision: 0.9989 - recall: 0.9870\n",
            "Epoch 167/200\n",
            "45/45 [==============================] - 25s 548ms/step - loss: 1.3871e-05 - precision: 0.9989 - recall: 0.9870\n",
            "Epoch 168/200\n",
            "45/45 [==============================] - 25s 548ms/step - loss: 1.3777e-05 - precision: 0.9989 - recall: 0.9871\n",
            "Epoch 169/200\n",
            "45/45 [==============================] - 25s 562ms/step - loss: 1.3751e-05 - precision: 0.9989 - recall: 0.9872\n",
            "Epoch 170/200\n",
            "45/45 [==============================] - 25s 551ms/step - loss: 1.3739e-05 - precision: 0.9989 - recall: 0.9872\n",
            "Epoch 171/200\n",
            "45/45 [==============================] - 25s 551ms/step - loss: 1.3731e-05 - precision: 0.9989 - recall: 0.9872\n",
            "Epoch 172/200\n",
            "45/45 [==============================] - 25s 551ms/step - loss: 1.3727e-05 - precision: 0.9989 - recall: 0.9872\n",
            "Epoch 173/200\n",
            "45/45 [==============================] - 25s 549ms/step - loss: 1.3613e-05 - precision: 0.9989 - recall: 0.9873\n",
            "Epoch 174/200\n",
            "45/45 [==============================] - 25s 553ms/step - loss: 1.3590e-05 - precision: 0.9989 - recall: 0.9873\n",
            "Epoch 175/200\n",
            "45/45 [==============================] - 25s 554ms/step - loss: 1.3587e-05 - precision: 0.9989 - recall: 0.9873\n",
            "Epoch 176/200\n",
            "45/45 [==============================] - 25s 553ms/step - loss: 1.3562e-05 - precision: 0.9989 - recall: 0.9873\n",
            "Epoch 177/200\n",
            "45/45 [==============================] - 25s 553ms/step - loss: 1.3539e-05 - precision: 0.9989 - recall: 0.9873\n",
            "Epoch 178/200\n",
            "45/45 [==============================] - 25s 563ms/step - loss: 1.3522e-05 - precision: 0.9989 - recall: 0.9873\n",
            "Epoch 179/200\n",
            "45/45 [==============================] - 25s 559ms/step - loss: 1.3667e-05 - precision: 0.9987 - recall: 0.9873\n",
            "Epoch 180/200\n",
            "45/45 [==============================] - 25s 552ms/step - loss: 1.4193e-05 - precision: 0.9985 - recall: 0.9870\n",
            "Epoch 181/200\n",
            "45/45 [==============================] - 25s 549ms/step - loss: 1.3400e-05 - precision: 0.9989 - recall: 0.9876\n",
            "Epoch 182/200\n",
            "45/45 [==============================] - 25s 547ms/step - loss: 1.3141e-05 - precision: 0.9989 - recall: 0.9878\n",
            "Epoch 183/200\n",
            "45/45 [==============================] - 25s 549ms/step - loss: 1.3035e-05 - precision: 0.9989 - recall: 0.9879\n",
            "Epoch 184/200\n",
            "45/45 [==============================] - 24s 542ms/step - loss: 1.3031e-05 - precision: 0.9989 - recall: 0.9879\n",
            "Epoch 185/200\n",
            "45/45 [==============================] - 24s 544ms/step - loss: 1.3019e-05 - precision: 0.9989 - recall: 0.9879\n",
            "Epoch 186/200\n",
            "45/45 [==============================] - 24s 545ms/step - loss: 1.2996e-05 - precision: 0.9989 - recall: 0.9879\n",
            "Epoch 187/200\n",
            "45/45 [==============================] - 25s 549ms/step - loss: 1.2857e-05 - precision: 0.9989 - recall: 0.9880\n",
            "Epoch 188/200\n",
            "45/45 [==============================] - 25s 550ms/step - loss: 1.2844e-05 - precision: 0.9989 - recall: 0.9880\n",
            "Epoch 189/200\n",
            "45/45 [==============================] - 25s 549ms/step - loss: 1.2801e-05 - precision: 0.9989 - recall: 0.9881\n",
            "Epoch 190/200\n",
            "45/45 [==============================] - 25s 547ms/step - loss: 1.2762e-05 - precision: 0.9989 - recall: 0.9881\n",
            "Epoch 191/200\n",
            "45/45 [==============================] - 25s 556ms/step - loss: 1.2755e-05 - precision: 0.9989 - recall: 0.9881\n",
            "Epoch 192/200\n",
            "45/45 [==============================] - 25s 546ms/step - loss: 1.2751e-05 - precision: 0.9989 - recall: 0.9881\n",
            "Epoch 193/200\n",
            "45/45 [==============================] - 25s 550ms/step - loss: 1.2747e-05 - precision: 0.9990 - recall: 0.9881\n",
            "Epoch 194/200\n",
            "45/45 [==============================] - 25s 549ms/step - loss: 1.2742e-05 - precision: 0.9990 - recall: 0.9881\n",
            "Epoch 195/200\n",
            "45/45 [==============================] - 25s 547ms/step - loss: 1.2730e-05 - precision: 0.9990 - recall: 0.9881\n",
            "Epoch 196/200\n",
            "45/45 [==============================] - 24s 545ms/step - loss: 1.2721e-05 - precision: 0.9991 - recall: 0.9881\n",
            "Epoch 197/200\n",
            "45/45 [==============================] - 24s 545ms/step - loss: 1.2707e-05 - precision: 0.9991 - recall: 0.9881\n",
            "Epoch 198/200\n",
            "45/45 [==============================] - 25s 552ms/step - loss: 1.2607e-05 - precision: 0.9991 - recall: 0.9883\n",
            "Epoch 199/200\n",
            "45/45 [==============================] - 25s 548ms/step - loss: 1.2589e-05 - precision: 0.9991 - recall: 0.9883\n",
            "Epoch 200/200\n",
            "45/45 [==============================] - 25s 550ms/step - loss: 1.2585e-05 - precision: 0.9991 - recall: 0.9883\n",
            "5/5 [==============================] - 1s 224ms/step - loss: 0.0010 - precision: 0.3901 - recall: 0.3404\n"
          ],
          "name": "stdout"
        },
        {
          "output_type": "execute_result",
          "data": {
            "text/plain": [
              "[0.0010478823678568006, 0.39009734988212585, 0.3403942883014679]"
            ]
          },
          "metadata": {
            "tags": []
          },
          "execution_count": 43
        }
      ]
    },
    {
      "cell_type": "code",
      "metadata": {
        "colab": {
          "base_uri": "https://localhost:8080/",
          "height": 293
        },
        "id": "CpolqQSbi54X",
        "outputId": "455dcd76-e090-4d40-c1dc-b7528a2ff11a"
      },
      "source": [
        "plt.plot(loss_history_callback.losses)"
      ],
      "execution_count": 44,
      "outputs": [
        {
          "output_type": "execute_result",
          "data": {
            "text/plain": [
              "[<matplotlib.lines.Line2D at 0x7f381eaff3d0>]"
            ]
          },
          "metadata": {
            "tags": []
          },
          "execution_count": 44
        },
        {
          "output_type": "display_data",
          "data": {
            "image/png": "[encoded data removed]",
            "text/plain": [
              "<Figure size 432x288 with 1 Axes>"
            ]
          },
          "metadata": {
            "tags": [],
            "needs_background": "light"
          }
        }
      ]
    },
    {
      "cell_type": "code",
      "metadata": {
        "colab": {
          "base_uri": "https://localhost:8080/",
          "height": 282
        },
        "id": "4DemHfW2VTXT",
        "outputId": "f23df985-7792-4dcc-f555-dec2f8b3788e"
      },
      "source": [
        "\n",
        "random_record = np.random.randint(len(x_train))\n",
        "plt.plot(np.argmax(model.predict(x_train[random_record]), axis=2))\n",
        "plt.plot(y_train[random_record])"
      ],
      "execution_count": 45,
      "outputs": [
        {
          "output_type": "execute_result",
          "data": {
            "text/plain": [
              "[<matplotlib.lines.Line2D at 0x7f381edd8c50>]"
            ]
          },
          "metadata": {
            "tags": []
          },
          "execution_count": 45
        },
        {
          "output_type": "display_data",
          "data": {
            "image/png": "[encoded data removed]",
            "text/plain": [
              "<Figure size 432x288 with 1 Axes>"
            ]
          },
          "metadata": {
            "tags": [],
            "needs_background": "light"
          }
        }
      ]
    },
    {
      "cell_type": "code",
      "metadata": {
        "colab": {
          "base_uri": "https://localhost:8080/",
          "height": 283
        },
        "id": "BNMXsND_sLb5",
        "outputId": "bf586b21-487d-4915-c273-d9ff7df9f67c"
      },
      "source": [
        "from sklearn.metrics import r2_score\n",
        "\n",
        "train_predictions = np.argmax(model.predict(x_train), axis=2)\n",
        "plt.scatter(train_predictions, y_train, alpha=0.05, color=\"blue\")\n",
        "print(\"R^2: {}\".format(r2_score(y_train, train_predictions)))"
      ],
      "execution_count": 46,
      "outputs": [
        {
          "output_type": "stream",
          "text": [
            "R^2: 0.9622860074833952\n"
          ],
          "name": "stdout"
        },
        {
          "output_type": "display_data",
          "data": {
            "image/png": "[encoded data removed]",
            "text/plain": [
              "<Figure size 432x288 with 1 Axes>"
            ]
          },
          "metadata": {
            "tags": [],
            "needs_background": "light"
          }
        }
      ]
    },
    {
      "cell_type": "code",
      "metadata": {
        "colab": {
          "base_uri": "https://localhost:8080/",
          "height": 283
        },
        "id": "Hf0ZF2ibsUKr",
        "outputId": "b09ffc63-f929-419d-f371-c2b085376dd5"
      },
      "source": [
        "test_predictions = np.argmax(model.predict(x_test), axis=2)\n",
        "plt.scatter(test_predictions, y_test, alpha=0.05, color=\"red\")\n",
        "print(\"R^2: {}\".format(r2_score(y_test, test_predictions)))"
      ],
      "execution_count": 47,
      "outputs": [
        {
          "output_type": "stream",
          "text": [
            "R^2: 0.7102794777059651\n"
          ],
          "name": "stdout"
        },
        {
          "output_type": "display_data",
          "data": {
            "image/png": "[encoded data removed]",
            "text/plain": [
              "<Figure size 432x288 with 1 Axes>"
            ]
          },
          "metadata": {
            "tags": [],
            "needs_background": "light"
          }
        }
      ]
    },
    {
      "cell_type": "code",
      "metadata": {
        "colab": {
          "base_uri": "https://localhost:8080/",
          "height": 265
        },
        "id": "gTDnV2KgPskB",
        "outputId": "0f64b55c-5c00-4d98-ae83-e2e0385e6236"
      },
      "source": [
        "\n",
        "from matplotlib import cm\n",
        "reds = cm.get_cmap('Reds', 12)\n",
        "\n",
        "plt.plot(y_train[random_index], \"b\", alpha=0.5)\n",
        "for i, prediction in enumerate(predict_callback.predicts[0:-1:10]):\n",
        "  plt.plot(prediction, alpha=1, color=reds((i+1)/len(predict_callback.predicts[0:-1:10])))"
      ],
      "execution_count": 48,
      "outputs": [
        {
          "output_type": "display_data",
          "data": {
            "image/png": "[encoded data removed]",
            "text/plain": [
              "<Figure size 432x288 with 1 Axes>"
            ]
          },
          "metadata": {
            "tags": [],
            "needs_background": "light"
          }
        }
      ]
    }
  ]
}